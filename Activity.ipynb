{
  "nbformat": 4,
  "nbformat_minor": 0,
  "metadata": {
    "colab": {
      "provenance": [],
      "authorship_tag": "ABX9TyN20j2O13xlIfIbpyg4cvlc",
      "include_colab_link": true
    },
    "kernelspec": {
      "name": "python3",
      "display_name": "Python 3"
    },
    "language_info": {
      "name": "python"
    }
  },
  "cells": [
    {
      "cell_type": "markdown",
      "metadata": {
        "id": "view-in-github",
        "colab_type": "text"
      },
      "source": [
        "<a href=\"https://colab.research.google.com/github/CeldrikDelgado/DSA-58011/blob/main/Activity.ipynb\" target=\"_parent\"><img src=\"https://colab.research.google.com/assets/colab-badge.svg\" alt=\"Open In Colab\"/></a>"
      ]
    },
    {
      "cell_type": "code",
      "execution_count": 9,
      "metadata": {
        "colab": {
          "base_uri": "https://localhost:8080/"
        },
        "id": "rP1QUwpfEEw2",
        "outputId": "8781019f-ca24-45ad-9b3c-fe05a7e76fca"
      },
      "outputs": [
        {
          "output_type": "stream",
          "name": "stdout",
          "text": [
            "[1, 2, 3, 4, 5, 6, 7, 8, 9, 10]\n",
            " These are individual elements\n",
            "array[0]= 1\n",
            "array[1]= 2\n",
            "array[2]= 3\n",
            "array[3]= 4\n",
            "array[4]= 5\n",
            "array[5]= 6\n",
            "array[6]= 7\n",
            "array[7]= 8\n",
            "array[8]= 9\n",
            "array[9]= 10\n"
          ]
        }
      ],
      "source": [
        "#Write a Python program to create an array of 10 integers and display the array items. Access individual elements through indexes and compute for the sum.\n",
        "\n",
        "\n",
        "\n",
        "array = [ 1, 2, 3, 4, 5, 6, 7, 8, 9, 10]\n",
        "print(array)\n",
        "print(\" These are individual elements\")\n",
        "print(\"array[0]=\",array[0])\n",
        "print(\"array[1]=\",array[1])\n",
        "print(\"array[2]=\",array[2])\n",
        "print(\"array[3]=\",array[3])\n",
        "print(\"array[4]=\",array[4])\n",
        "print(\"array[5]=\",array[5])\n",
        "print(\"array[6]=\",array[6])\n",
        "print(\"array[7]=\",array[7])\n",
        "print(\"array[8]=\",array[8])\n",
        "print(\"array[9]=\",array[9])"
      ]
    },
    {
      "cell_type": "markdown",
      "source": [
        "2. Write a Python program to append a new item to the end of the array. Original array: numbers = [1, 2, 3, 4, 5, 6, 7, 8, 9, 10]\n"
      ],
      "metadata": {
        "id": "2sKK8voxjKqn"
      }
    },
    {
      "cell_type": "code",
      "source": [
        "from array import *\n",
        "\n",
        "array=([1, 2, 3, 4, 5, 6, 7, 8, 9, 10])\n",
        "array.append(20)\n",
        "print(\"New array=\" ,array)"
      ],
      "metadata": {
        "colab": {
          "base_uri": "https://localhost:8080/"
        },
        "id": "ZszyXQspFYO0",
        "outputId": "e991441e-3759-4d15-e568-24b9c1686853"
      },
      "execution_count": 19,
      "outputs": [
        {
          "output_type": "stream",
          "name": "stdout",
          "text": [
            "New array= [1, 2, 3, 4, 5, 6, 7, 8, 9, 10, 20]\n"
          ]
        }
      ]
    },
    {
      "cell_type": "markdown",
      "source": [
        "3. Write a Python program to insert a new item before the second element in an existing array. Original array: numbers = [1, 2, 3, 4, 5, 6, 7, 8, 9, 10]"
      ],
      "metadata": {
        "id": "6PqecVWYknec"
      }
    },
    {
      "cell_type": "code",
      "source": [
        "array=[1, 2, 3, 4, 5, 6, 7, 8, 9, 10]\n",
        "print( \" Insert number 20 before the second element\")\n",
        "array.insert(1,20)\n",
        "print(\"array=\" ,array)"
      ],
      "metadata": {
        "colab": {
          "base_uri": "https://localhost:8080/"
        },
        "id": "CEE1oNxZFYbi",
        "outputId": "bfc0d049-8b86-41d3-9dc5-55587366aa67"
      },
      "execution_count": 25,
      "outputs": [
        {
          "output_type": "stream",
          "name": "stdout",
          "text": [
            " Insert number 20 before the second element\n",
            "array= [1, 20, 2, 3, 4, 5, 6, 7, 8, 9, 10]\n"
          ]
        }
      ]
    },
    {
      "cell_type": "markdown",
      "source": [
        "4 . Write a Python program to reverse the order of the items in the array.Original array: numbers = [5, 4, 3, 2, 1]"
      ],
      "metadata": {
        "id": "wZJc2SPFGjPB"
      }
    },
    {
      "cell_type": "code",
      "source": [
        "\n",
        "array=([5, 4 , 3 , 2, 1])\n",
        "array.reverse()\n",
        "print(array)\n"
      ],
      "metadata": {
        "colab": {
          "base_uri": "https://localhost:8080/"
        },
        "id": "MtSsCqZ5Fa_6",
        "outputId": "af08f1d2-4fe3-43c2-e052-0da4d13d8f06"
      },
      "execution_count": 24,
      "outputs": [
        {
          "output_type": "stream",
          "name": "stdout",
          "text": [
            "[1, 2, 3, 4, 5]\n"
          ]
        }
      ]
    }
  ]
}