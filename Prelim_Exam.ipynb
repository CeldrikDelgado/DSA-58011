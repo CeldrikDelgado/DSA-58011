{
  "nbformat": 4,
  "nbformat_minor": 0,
  "metadata": {
    "colab": {
      "provenance": [],
      "authorship_tag": "ABX9TyO5bt6IIECH6kubBT0/GxxH",
      "include_colab_link": true
    },
    "kernelspec": {
      "name": "python3",
      "display_name": "Python 3"
    },
    "language_info": {
      "name": "python"
    }
  },
  "cells": [
    {
      "cell_type": "markdown",
      "metadata": {
        "id": "view-in-github",
        "colab_type": "text"
      },
      "source": [
        "<a href=\"https://colab.research.google.com/github/CeldrikDelgado/DSA-58011/blob/main/Prelim_Exam.ipynb\" target=\"_parent\"><img src=\"https://colab.research.google.com/assets/colab-badge.svg\" alt=\"Open In Colab\"/></a>"
      ]
    },
    {
      "cell_type": "code",
      "execution_count": 8,
      "metadata": {
        "colab": {
          "base_uri": "https://localhost:8080/"
        },
        "id": "82uacVyyeNZH",
        "outputId": "3e38f18d-ef5c-4db6-b65e-1c14324d8b72"
      },
      "outputs": [
        {
          "output_type": "stream",
          "name": "stdout",
          "text": [
            "new array= [1, 2, 3, 4, 5, 6, 7, 8, 9, 10, 20]\n"
          ]
        }
      ],
      "source": [
        "from array import *\n",
        "\n",
        "array=([1, 2, 3, 4, 5, 6, 7, 8, 9, 10])\n",
        "array.append(20)\n",
        "\n",
        "print(\"new array=\" ,array)"
      ]
    }
  ]
}