{
  "nbformat": 4,
  "nbformat_minor": 0,
  "metadata": {
    "colab": {
      "provenance": [],
      "authorship_tag": "ABX9TyOiW0eVCClOQR0wbd5FCzDq",
      "include_colab_link": true
    },
    "kernelspec": {
      "name": "python3",
      "display_name": "Python 3"
    },
    "language_info": {
      "name": "python"
    }
  },
  "cells": [
    {
      "cell_type": "markdown",
      "metadata": {
        "id": "view-in-github",
        "colab_type": "text"
      },
      "source": [
        "<a href=\"https://colab.research.google.com/github/CeldrikDelgado/DSA-58011/blob/main/Prelim_Exam.ipynb\" target=\"_parent\"><img src=\"https://colab.research.google.com/assets/colab-badge.svg\" alt=\"Open In Colab\"/></a>"
      ]
    },
    {
      "cell_type": "code",
      "execution_count": 16,
      "metadata": {
        "colab": {
          "base_uri": "https://localhost:8080/"
        },
        "id": "82uacVyyeNZH",
        "outputId": "4ea68ef6-0b59-4558-c959-20492db1f48a"
      },
      "outputs": [
        {
          "output_type": "stream",
          "name": "stdout",
          "text": [
            "new array= [1, 2, 3, 4, 5, 6, 7, 8, 9, 10, 3]\n"
          ]
        }
      ],
      "source": [
        "from array import *\n",
        "\n",
        "array=([1, 2, 3, 4, 5, 6, 7, 8, 9, 10])\n",
        "array.append(3)\n",
        "\n",
        "\n",
        "print(\"new array=\" ,array)\n"
      ]
    },
    {
      "cell_type": "code",
      "source": [],
      "metadata": {
        "id": "PCtH1XhnkUDv"
      },
      "execution_count": null,
      "outputs": []
    }
  ]
}